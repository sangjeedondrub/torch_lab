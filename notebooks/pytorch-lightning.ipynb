{
 "cells": [
  {
   "cell_type": "code",
   "execution_count": null,
   "source": [
    "import os\n",
    "\n",
    "import torch\n",
    "import torchvision\n",
    "import torch.nn as nn\n",
    "import torch.nn.functional as F\n",
    "from torch.utils.data import DataLoader, random_split"
   ],
   "outputs": [],
   "metadata": {}
  },
  {
   "cell_type": "code",
   "execution_count": null,
   "source": [
    "from torchvision.datasets import MNIST\n",
    "from torchvision import datasets, transforms"
   ],
   "outputs": [],
   "metadata": {}
  },
  {
   "cell_type": "code",
   "execution_count": null,
   "source": [
    "import pytorch_lightning as pl"
   ],
   "outputs": [],
   "metadata": {}
  },
  {
   "cell_type": "code",
   "execution_count": null,
   "source": [
    "from pytorch_lightning import Trainer"
   ],
   "outputs": [],
   "metadata": {}
  },
  {
   "cell_type": "code",
   "execution_count": null,
   "source": [
    "# transforms\r\n",
    "# prepare transforms standard to MNIST\r\n",
    "transform=transforms.Compose([transforms.ToTensor(),\r\n",
    "                              transforms.Normalize((0.1307,), (0.3081,))])\r\n",
    "\r\n",
    "# data\r\n",
    "mnist_train = MNIST(os.getcwd(), train=True, download=True, transform=transform)\r\n",
    "mnist_train_loader = DataLoader(mnist_train, batch_size=64)"
   ],
   "outputs": [],
   "metadata": {}
  },
  {
   "cell_type": "code",
   "execution_count": null,
   "source": [
    "# build your model\n",
    "class CustomMNIST(pl.LightningModule):\n",
    "    def __init__(self):\n",
    "        super().__init__()\n",
    "        # mnist images are (1, 28, 28) (channels, width, height)\n",
    "        self.layer1 = torch.nn.Linear(28 * 28, 128)\n",
    "        self.layer2 = torch.nn.Linear(128, 256)\n",
    "        self.layer3 = torch.nn.Linear(256, 10)\n",
    "\n",
    "    def forward(self, x):\n",
    "        batch_size, channels, width, height = x.size()\n",
    "\n",
    "        # (b, 1, 28, 28) -> (b, 1*28*28)\n",
    "        x = x.view(batch_size, -1)\n",
    "\n",
    "        x = self.layer1(x)\n",
    "        x = torch.relu(x)\n",
    "\n",
    "        x = self.layer2(x)\n",
    "        x = torch.relu(x)\n",
    "\n",
    "        x = self.layer3(x)\n",
    "        x = torch.log_softmax(x, dim=1)\n",
    "\n",
    "        return x\n",
    "\n",
    "    def training_step(self, batch, batch_idx):\n",
    "        data, target = batch\n",
    "        logits = self.forward(data)\n",
    "        loss = F.nll_loss(logits, target)\n",
    "        return {'loss': loss}\n",
    "\n",
    "    def configure_optimizers(self):\n",
    "        return torch.optim.Adam(self.parameters(), lr=1e-3)"
   ],
   "outputs": [],
   "metadata": {}
  },
  {
   "cell_type": "code",
   "execution_count": 8,
   "source": [
    "# train your model\n",
    "model = CustomMNIST()\n",
    "trainer = Trainer(max_epochs=5, gpus=0)\n",
    "\n",
    "trainer.fit(model, mnist_train_loader)"
   ],
   "outputs": [
    {
     "output_type": "stream",
     "name": "stdout",
     "text": [
      "Epoch 4: 100%|██████████| 938/938 [00:36<00:00, 25.46it/s, loss=0.0348, v_num=0]\n"
     ]
    },
    {
     "output_type": "stream",
     "name": "stdout",
     "text": [
      "Epoch 1:  45%|████▌     | 423/938 [00:10<00:12, 41.42it/s, loss=0.125, v_num=2]\n"
     ]
    },
    {
     "output_type": "execute_result",
     "data": {
      "text/plain": [
       "1"
      ]
     },
     "metadata": {},
     "execution_count": 8
    }
   ],
   "metadata": {}
  }
 ],
 "metadata": {
  "kernelspec": {
   "display_name": "Python 3",
   "language": "python",
   "name": "python3"
  },
  "language_info": {
   "codemirror_mode": {
    "name": "ipython",
    "version": 3
   },
   "file_extension": ".py",
   "mimetype": "text/x-python",
   "name": "python",
   "nbconvert_exporter": "python",
   "pygments_lexer": "ipython3",
   "version": "3.7.10"
  }
 },
 "nbformat": 4,
 "nbformat_minor": 5
}